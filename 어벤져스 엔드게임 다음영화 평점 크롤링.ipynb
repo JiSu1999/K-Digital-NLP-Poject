{
 "cells": [
  {
   "cell_type": "code",
   "execution_count": 8,
   "metadata": {},
   "outputs": [
    {
     "name": "stdout",
     "output_type": "stream",
     "text": [
      "c:\\Users\\LeeJiSu\\Desktop\\k디털플젝\n"
     ]
    }
   ],
   "source": [
    "cd .."
   ]
  },
  {
   "cell_type": "code",
   "execution_count": 46,
   "metadata": {},
   "outputs": [],
   "source": [
    "import requests as req\n",
    "import json\n",
    "import pandas as pd"
   ]
  },
  {
   "cell_type": "code",
   "execution_count": 64,
   "metadata": {},
   "outputs": [],
   "source": [
    "count_url = f\"https://comment.daum.net/apis/v1/comments/on/149596779/flags\"\n",
    "count_res = req.get(count_url)\n",
    "count_json = json.loads(count_res.text)\n",
    "total = int(int(count_json['count'])/10)\n",
    "\n",
    "review_list = []\n",
    "for page in range(0, 431):\n",
    "    url = f'https://comment.daum.net/apis/v1/posts/149596779/comments?parentId=0&offset={page}0&limit=10&sort=RECOMMEND&isInitial=false&hasNext=true'\n",
    "    res = req.get(url)\n",
    "    json_string = json.loads(res.text)\n",
    "    for index, _ in enumerate(json_string):\n",
    "        review = json_string[index][\"content\"]\n",
    "        rating = json_string[index][\"rating\"]\n",
    "        review_list.append([rating, review])"
   ]
  },
  {
   "cell_type": "code",
   "execution_count": 65,
   "metadata": {},
   "outputs": [],
   "source": [
    "df = pd.DataFrame(review_list, columns=[\"rating\", \"review\"])\n",
    "df.to_csv(f\"new.csv\",index=False, encoding='utf-8-sig')"
   ]
  },
  {
   "cell_type": "code",
   "execution_count": 66,
   "metadata": {},
   "outputs": [
    {
     "data": {
      "text/html": [
       "<div>\n",
       "<style scoped>\n",
       "    .dataframe tbody tr th:only-of-type {\n",
       "        vertical-align: middle;\n",
       "    }\n",
       "\n",
       "    .dataframe tbody tr th {\n",
       "        vertical-align: top;\n",
       "    }\n",
       "\n",
       "    .dataframe thead th {\n",
       "        text-align: right;\n",
       "    }\n",
       "</style>\n",
       "<table border=\"1\" class=\"dataframe\">\n",
       "  <thead>\n",
       "    <tr style=\"text-align: right;\">\n",
       "      <th></th>\n",
       "      <th>rating</th>\n",
       "      <th>review</th>\n",
       "    </tr>\n",
       "  </thead>\n",
       "  <tbody>\n",
       "    <tr>\n",
       "      <th>0</th>\n",
       "      <td>10</td>\n",
       "      <td>인피니티 사가 최고의 마무리. 이보다 더 완벽할 순 없다.\\n\\n캡틴 아메리카에게 ...</td>\n",
       "    </tr>\n",
       "    <tr>\n",
       "      <th>1</th>\n",
       "      <td>10</td>\n",
       "      <td>아이언맨으로 시작된 10년 마블 영화 팬들에 대한 위대한  엔드 프리젠트.\\r\\n ...</td>\n",
       "    </tr>\n",
       "    <tr>\n",
       "      <th>2</th>\n",
       "      <td>10</td>\n",
       "      <td>마블시네마틱유니버스의 대서사를 마무리 짓는 작품. 슈퍼 히어로와 액션이 난무하지만,...</td>\n",
       "    </tr>\n",
       "    <tr>\n",
       "      <th>3</th>\n",
       "      <td>10</td>\n",
       "      <td>11년의 긴 세월을 사랑 받아온 한편의 드라마를 어떻게하면 화려하게 장식 할 수 있...</td>\n",
       "    </tr>\n",
       "    <tr>\n",
       "      <th>4</th>\n",
       "      <td>9</td>\n",
       "      <td>&amp;#39;인피니티워&amp;#39;에서 엄청난 전투씬의 융단폭격을 퍼붓던 기조가 &amp;#39;...</td>\n",
       "    </tr>\n",
       "    <tr>\n",
       "      <th>...</th>\n",
       "      <td>...</td>\n",
       "      <td>...</td>\n",
       "    </tr>\n",
       "    <tr>\n",
       "      <th>4305</th>\n",
       "      <td>1</td>\n",
       "      <td>재미없음</td>\n",
       "    </tr>\n",
       "    <tr>\n",
       "      <th>4306</th>\n",
       "      <td>1</td>\n",
       "      <td>슬프다. 결국 미국우월주의.</td>\n",
       "    </tr>\n",
       "    <tr>\n",
       "      <th>4307</th>\n",
       "      <td>2</td>\n",
       "      <td>시간도 돈도 아까웠다\\r\\n다른 시리즈에 비해 좀 약했다고 말하는 블랙팬서 보고도 ...</td>\n",
       "    </tr>\n",
       "    <tr>\n",
       "      <th>4308</th>\n",
       "      <td>3</td>\n",
       "      <td>패미 덧칠에 기존 캐릭터 회화한 망작 와스프는 양자터널 시동걸다 서브여주들 모임에 ...</td>\n",
       "    </tr>\n",
       "    <tr>\n",
       "      <th>4309</th>\n",
       "      <td>3</td>\n",
       "      <td>전체적인 구성과 전투씬이 아쉽다 시간없어 대충 만든 느낌</td>\n",
       "    </tr>\n",
       "  </tbody>\n",
       "</table>\n",
       "<p>4310 rows × 2 columns</p>\n",
       "</div>"
      ],
      "text/plain": [
       "      rating                                             review\n",
       "0         10  인피니티 사가 최고의 마무리. 이보다 더 완벽할 순 없다.\\n\\n캡틴 아메리카에게 ...\n",
       "1         10  아이언맨으로 시작된 10년 마블 영화 팬들에 대한 위대한  엔드 프리젠트.\\r\\n ...\n",
       "2         10  마블시네마틱유니버스의 대서사를 마무리 짓는 작품. 슈퍼 히어로와 액션이 난무하지만,...\n",
       "3         10  11년의 긴 세월을 사랑 받아온 한편의 드라마를 어떻게하면 화려하게 장식 할 수 있...\n",
       "4          9  &#39;인피니티워&#39;에서 엄청난 전투씬의 융단폭격을 퍼붓던 기조가 &#39;...\n",
       "...      ...                                                ...\n",
       "4305       1                                               재미없음\n",
       "4306       1                                    슬프다. 결국 미국우월주의.\n",
       "4307       2  시간도 돈도 아까웠다\\r\\n다른 시리즈에 비해 좀 약했다고 말하는 블랙팬서 보고도 ...\n",
       "4308       3  패미 덧칠에 기존 캐릭터 회화한 망작 와스프는 양자터널 시동걸다 서브여주들 모임에 ...\n",
       "4309       3                    전체적인 구성과 전투씬이 아쉽다 시간없어 대충 만든 느낌\n",
       "\n",
       "[4310 rows x 2 columns]"
      ]
     },
     "execution_count": 66,
     "metadata": {},
     "output_type": "execute_result"
    }
   ],
   "source": [
    "df"
   ]
  }
 ],
 "metadata": {
  "kernelspec": {
   "display_name": "Python 3",
   "language": "python",
   "name": "python3"
  },
  "language_info": {
   "codemirror_mode": {
    "name": "ipython",
    "version": 3
   },
   "file_extension": ".py",
   "mimetype": "text/x-python",
   "name": "python",
   "nbconvert_exporter": "python",
   "pygments_lexer": "ipython3",
   "version": "3.11.3"
  }
 },
 "nbformat": 4,
 "nbformat_minor": 2
}
