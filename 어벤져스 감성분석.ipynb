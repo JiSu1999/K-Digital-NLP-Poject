{
 "cells": [
  {
   "cell_type": "code",
   "execution_count": 1,
   "metadata": {},
   "outputs": [
    {
     "data": {
      "text/plain": [
       "'c:\\\\Users\\\\LeeJiSu\\\\Desktop\\\\k디털플젝'"
      ]
     },
     "execution_count": 1,
     "metadata": {},
     "output_type": "execute_result"
    }
   ],
   "source": [
    "pwd"
   ]
  },
  {
   "cell_type": "code",
   "execution_count": 2,
   "metadata": {},
   "outputs": [],
   "source": [
    "%matplotlib inline\n",
    "\n",
    "import pandas as pd\n",
    "import numpy as np\n",
    "import matplotlib.pyplot as plt\n",
    "import seaborn as sns\n",
    "\n",
    "import warnings\n",
    "warnings.filterwarnings('ignore')\n",
    "\n",
    "\n",
    "# 형태소 추출을 위한 라이브러리\n",
    "import re\n",
    "\n",
    "# 명사 형태소 추출을 위한 라이브러리\n",
    "from konlpy.tag._okt import Okt\n",
    "from collections import Counter"
   ]
  },
  {
   "cell_type": "code",
   "execution_count": 3,
   "metadata": {},
   "outputs": [],
   "source": [
    "df = pd.read_csv('new.csv')"
   ]
  },
  {
   "cell_type": "code",
   "execution_count": 4,
   "metadata": {},
   "outputs": [
    {
     "data": {
      "text/html": [
       "<div>\n",
       "<style scoped>\n",
       "    .dataframe tbody tr th:only-of-type {\n",
       "        vertical-align: middle;\n",
       "    }\n",
       "\n",
       "    .dataframe tbody tr th {\n",
       "        vertical-align: top;\n",
       "    }\n",
       "\n",
       "    .dataframe thead th {\n",
       "        text-align: right;\n",
       "    }\n",
       "</style>\n",
       "<table border=\"1\" class=\"dataframe\">\n",
       "  <thead>\n",
       "    <tr style=\"text-align: right;\">\n",
       "      <th></th>\n",
       "      <th>rating</th>\n",
       "      <th>review</th>\n",
       "    </tr>\n",
       "  </thead>\n",
       "  <tbody>\n",
       "    <tr>\n",
       "      <th>0</th>\n",
       "      <td>10</td>\n",
       "      <td>인피니티 사가 최고의 마무리. 이보다 더 완벽할 순 없다.\\n\\n캡틴 아메리카에게 ...</td>\n",
       "    </tr>\n",
       "    <tr>\n",
       "      <th>1</th>\n",
       "      <td>10</td>\n",
       "      <td>아이언맨으로 시작된 10년 마블 영화 팬들에 대한 위대한  엔드 프리젠트.\\r\\n ...</td>\n",
       "    </tr>\n",
       "    <tr>\n",
       "      <th>2</th>\n",
       "      <td>10</td>\n",
       "      <td>마블시네마틱유니버스의 대서사를 마무리 짓는 작품. 슈퍼 히어로와 액션이 난무하지만,...</td>\n",
       "    </tr>\n",
       "    <tr>\n",
       "      <th>3</th>\n",
       "      <td>10</td>\n",
       "      <td>11년의 긴 세월을 사랑 받아온 한편의 드라마를 어떻게하면 화려하게 장식 할 수 있...</td>\n",
       "    </tr>\n",
       "    <tr>\n",
       "      <th>4</th>\n",
       "      <td>9</td>\n",
       "      <td>&amp;#39;인피니티워&amp;#39;에서 엄청난 전투씬의 융단폭격을 퍼붓던 기조가 &amp;#39;...</td>\n",
       "    </tr>\n",
       "  </tbody>\n",
       "</table>\n",
       "</div>"
      ],
      "text/plain": [
       "   rating                                             review\n",
       "0      10  인피니티 사가 최고의 마무리. 이보다 더 완벽할 순 없다.\\n\\n캡틴 아메리카에게 ...\n",
       "1      10  아이언맨으로 시작된 10년 마블 영화 팬들에 대한 위대한  엔드 프리젠트.\\r\\n ...\n",
       "2      10  마블시네마틱유니버스의 대서사를 마무리 짓는 작품. 슈퍼 히어로와 액션이 난무하지만,...\n",
       "3      10  11년의 긴 세월을 사랑 받아온 한편의 드라마를 어떻게하면 화려하게 장식 할 수 있...\n",
       "4       9  &#39;인피니티워&#39;에서 엄청난 전투씬의 융단폭격을 퍼붓던 기조가 &#39;..."
      ]
     },
     "execution_count": 4,
     "metadata": {},
     "output_type": "execute_result"
    }
   ],
   "source": [
    "df.head()"
   ]
  },
  {
   "cell_type": "code",
   "execution_count": 5,
   "metadata": {},
   "outputs": [
    {
     "data": {
      "text/plain": [
       "(4310, 2)"
      ]
     },
     "execution_count": 5,
     "metadata": {},
     "output_type": "execute_result"
    }
   ],
   "source": [
    "# rating(점수) 와 review(후기)를의 2가지 열로 구성된 4310개의 행\n",
    "\n",
    "df.shape"
   ]
  },
  {
   "cell_type": "code",
   "execution_count": 6,
   "metadata": {},
   "outputs": [
    {
     "data": {
      "text/plain": [
       "rating      0\n",
       "review    861\n",
       "dtype: int64"
      ]
     },
     "execution_count": 6,
     "metadata": {},
     "output_type": "execute_result"
    }
   ],
   "source": [
    "# 리뷰의 결측치 존재 확인\n",
    "\n",
    "df.isnull().sum()"
   ]
  },
  {
   "cell_type": "code",
   "execution_count": 7,
   "metadata": {},
   "outputs": [
    {
     "name": "stdout",
     "output_type": "stream",
     "text": [
      "<class 'pandas.core.frame.DataFrame'>\n",
      "RangeIndex: 4310 entries, 0 to 4309\n",
      "Data columns (total 2 columns):\n",
      " #   Column  Non-Null Count  Dtype \n",
      "---  ------  --------------  ----- \n",
      " 0   rating  4310 non-null   int64 \n",
      " 1   review  3449 non-null   object\n",
      "dtypes: int64(1), object(1)\n",
      "memory usage: 67.5+ KB\n"
     ]
    }
   ],
   "source": [
    "# 점수는 메겼지만 리뷰는 쓰지 않은 댓글 존재\n",
    "# 4310 - 3449 = 861\n",
    "\n",
    "df.info()"
   ]
  },
  {
   "cell_type": "code",
   "execution_count": 8,
   "metadata": {},
   "outputs": [
    {
     "data": {
      "text/plain": [
       "'인피니티 사가 최고의 마무리. 이보다 더 완벽할 순 없다.\\n\\n캡틴 아메리카에게 영향을 받아 변화한 하워드 스타크\\n그런 과거의 아버지에게 영향을 받아 변화한 토니 스타크\\n토니 스타크에게 영향을 받아 변화한 캡틴 아메리카\\n\\n결국 이기적이던 토니는 아이언맨으로써 모두를 위해 희생했고, 쉬지 않고 평생을 바쳐 활동하던 캡틴 아메리카는 은퇴하고 스티브 로져스의 삶을 산다..\\n\\n개인적으로 진짜 마블 영화 보면서 소름돋았던 것은 처음이다. 그것도 여러번이나.\\n- 아이언맨의 핑거 스냅\\n- 토니 스타크의 \"3000만큼 사랑해\"\\n- 캡틴 아메리카의 \"어벤져스 어셈블\"\\n- 스티븐 로저스와 페기 카터의 댄스\\n\\n아이언맨은 1편에서 했던 명대사로 끝을 맞았고, 스티븐은 1편에서 했던 약속을 지키며 끝을 맞았다'"
      ]
     },
     "execution_count": 8,
     "metadata": {},
     "output_type": "execute_result"
    }
   ],
   "source": [
    "# 아래의 두 리뷰를 보면 \\n 이나 ㅋㅋ 등의 \"특수 문자\"와 \"모음\"이 존재하는 경우 다수\n",
    "# 이들은 Text Mining을 적용할 의미가 없기에 정규표현식을 이용해 제거한다.\n",
    "\n",
    "df['review'][0]"
   ]
  },
  {
   "cell_type": "code",
   "execution_count": 9,
   "metadata": {},
   "outputs": [
    {
     "data": {
      "text/plain": [
       "'전편들이나 마블 시리즈 스토리, 캐릭터를 대강 아는 사람들은 꿀잼, 내용 모르고 처음 보는 사람들은 당연히 지루하지ㅋㅋ'"
      ]
     },
     "execution_count": 9,
     "metadata": {},
     "output_type": "execute_result"
    }
   ],
   "source": [
    "df['review'][120]"
   ]
  },
  {
   "cell_type": "code",
   "execution_count": 20,
   "metadata": {},
   "outputs": [
    {
     "name": "stdout",
     "output_type": "stream",
     "text": [
      "Defaulting to user installation because normal site-packages is not writeable\n",
      "Collecting konlpy==0.5.2\n",
      "  Using cached konlpy-0.5.2-py2.py3-none-any.whl (19.4 MB)\n",
      "Requirement already satisfied: jpype1 in c:\\users\\leejisu\\appdata\\roaming\\python\\python311\\site-packages (1.4.1)\n",
      "Requirement already satisfied: Jpype1-py3 in c:\\users\\leejisu\\appdata\\roaming\\python\\python311\\site-packages (0.5.5.4)\n",
      "Requirement already satisfied: beautifulsoup4==4.6.0 in c:\\users\\leejisu\\appdata\\roaming\\python\\python311\\site-packages (from konlpy==0.5.2) (4.6.0)\n",
      "Requirement already satisfied: colorama in c:\\program files\\python311\\lib\\site-packages (from konlpy==0.5.2) (0.4.6)\n",
      "Requirement already satisfied: lxml>=4.1.0 in c:\\users\\leejisu\\appdata\\roaming\\python\\python311\\site-packages (from konlpy==0.5.2) (4.9.3)\n",
      "Requirement already satisfied: numpy>=1.6 in c:\\users\\leejisu\\appdata\\roaming\\python\\python311\\site-packages (from konlpy==0.5.2) (1.26.2)\n",
      "Requirement already satisfied: tweepy>=3.7.0 in c:\\users\\leejisu\\appdata\\roaming\\python\\python311\\site-packages (from konlpy==0.5.2) (4.14.0)\n",
      "Requirement already satisfied: packaging in c:\\program files\\python311\\lib\\site-packages (from jpype1) (23.1)\n",
      "Requirement already satisfied: oauthlib<4,>=3.2.0 in c:\\users\\leejisu\\appdata\\roaming\\python\\python311\\site-packages (from tweepy>=3.7.0->konlpy==0.5.2) (3.2.2)\n",
      "Requirement already satisfied: requests<3,>=2.27.0 in c:\\program files\\python311\\lib\\site-packages (from tweepy>=3.7.0->konlpy==0.5.2) (2.31.0)\n",
      "Requirement already satisfied: requests-oauthlib<2,>=1.2.0 in c:\\users\\leejisu\\appdata\\roaming\\python\\python311\\site-packages (from tweepy>=3.7.0->konlpy==0.5.2) (1.3.1)\n",
      "Requirement already satisfied: charset-normalizer<4,>=2 in c:\\program files\\python311\\lib\\site-packages (from requests<3,>=2.27.0->tweepy>=3.7.0->konlpy==0.5.2) (3.2.0)\n",
      "Requirement already satisfied: idna<4,>=2.5 in c:\\program files\\python311\\lib\\site-packages (from requests<3,>=2.27.0->tweepy>=3.7.0->konlpy==0.5.2) (3.4)\n",
      "Requirement already satisfied: urllib3<3,>=1.21.1 in c:\\program files\\python311\\lib\\site-packages (from requests<3,>=2.27.0->tweepy>=3.7.0->konlpy==0.5.2) (2.0.3)\n",
      "Requirement already satisfied: certifi>=2017.4.17 in c:\\program files\\python311\\lib\\site-packages (from requests<3,>=2.27.0->tweepy>=3.7.0->konlpy==0.5.2) (2023.5.7)\n",
      "Installing collected packages: konlpy\n",
      "  Attempting uninstall: konlpy\n",
      "    Found existing installation: konlpy 0.6.0\n",
      "    Uninstalling konlpy-0.6.0:\n",
      "      Successfully uninstalled konlpy-0.6.0\n",
      "Successfully installed konlpy-0.5.2\n"
     ]
    }
   ],
   "source": [
    "# 한국어 텍스트 데이터 전처리\n",
    "# 리뷰의 평가 내용을 단어화해서 형태소를 추출하고,\n",
    "# 그 다음 Bag of Words를 생성하여 TF-IDF 변환을 진행하겠습니다.\n",
    "# 한글 형태소 분석기인 KoNLPy를 설치하는 과정\n",
    "\n",
    "!pip install konlpy==0.5.2 jpype1 Jpype1-py3"
   ]
  },
  {
   "cell_type": "code",
   "execution_count": 11,
   "metadata": {},
   "outputs": [],
   "source": [
    "# pip install --upgrade konlpy"
   ]
  },
  {
   "cell_type": "code",
   "execution_count": 12,
   "metadata": {},
   "outputs": [],
   "source": [
    "# pip install --upgrade jpype1"
   ]
  },
  {
   "cell_type": "code",
   "execution_count": 13,
   "metadata": {},
   "outputs": [],
   "source": [
    "# 정규 표현식 함수 정의\n",
    "\n",
    "def apply_regular_expression(text):\n",
    "    hangul = re.compile('[^ ㄱ-ㅣ 가-힣]')  # 한글 추출 규칙: 띄어 쓰기(1 개)를 포함한 한글\n",
    "    result = hangul.sub('', text)  # 위에 설정한 \"hangul\"규칙을 \"text\"에 적용(.sub)시킴\n",
    "    return result"
   ]
  },
  {
   "cell_type": "code",
   "execution_count": 14,
   "metadata": {},
   "outputs": [
    {
     "data": {
      "text/plain": [
       "'인피니티 사가 최고의 마무리 이보다 더 완벽할 순 없다캡틴 아메리카에게 영향을 받아 변화한 하워드 스타크그런 과거의 아버지에게 영향을 받아 변화한 토니 스타크토니 스타크에게 영향을 받아 변화한 캡틴 아메리카결국 이기적이던 토니는 아이언맨으로써 모두를 위해 희생했고 쉬지 않고 평생을 바쳐 활동하던 캡틴 아메리카는 은퇴하고 스티브 로져스의 삶을 산다개인적으로 진짜 마블 영화 보면서 소름돋았던 것은 처음이다 그것도 여러번이나 아이언맨의 핑거 스냅 토니 스타크의 만큼 사랑해 캡틴 아메리카의 어벤져스 어셈블 스티븐 로저스와 페기 카터의 댄스아이언맨은 편에서 했던 명대사로 끝을 맞았고 스티븐은 편에서 했던 약속을 지키며 끝을 맞았다'"
      ]
     },
     "execution_count": 14,
     "metadata": {},
     "output_type": "execute_result"
    }
   ],
   "source": [
    "# 정규 표현식을 통해 \"특수 문자\"와 \"모음\" 제거\n",
    "\n",
    "apply_regular_expression(df['review'][0])"
   ]
  },
  {
   "cell_type": "code",
   "execution_count": 15,
   "metadata": {},
   "outputs": [
    {
     "data": {
      "text/plain": [
       "'인피니티 사가 최고의 마무리. 이보다 더 완벽할 순 없다.\\n\\n캡틴 아메리카에게 영향을 받아 변화한 하워드 스타크\\n그런 과거의 아버지에게 영향을 받아 변화한 토니 스타크\\n토니 스타크에게 영향을 받아 변화한 캡틴 아메리카\\n\\n결국 이기적이던 토니는 아이언맨으로써 모두를 위해 희생했고, 쉬지 않고 평생을 바쳐 활동하던 캡틴 아메리카는 은퇴하고 스티브 로져스의 삶을 산다..\\n\\n개인적으로 진짜 마블 영화 보면서 소름돋았던 것은 처음이다. 그것도 여러번이나.\\n- 아이언맨의 핑거 스냅\\n- 토니 스타크의 \"3000만큼 사랑해\"\\n- 캡틴 아메리카의 \"어벤져스 어셈블\"\\n- 스티븐 로저스와 페기 카터의 댄스\\n\\n아이언맨은 1편에서 했던 명대사로 끝을 맞았고, 스티븐은 1편에서 했던 약속을 지키며 끝을 맞았다'"
      ]
     },
     "execution_count": 15,
     "metadata": {},
     "output_type": "execute_result"
    }
   ],
   "source": [
    "df['review'][0]"
   ]
  },
  {
   "cell_type": "code",
   "execution_count": 23,
   "metadata": {},
   "outputs": [
    {
     "ename": "TypeError",
     "evalue": "startJVM() got an unexpected keyword argument 'classpath'",
     "output_type": "error",
     "traceback": [
      "\u001b[1;31m---------------------------------------------------------------------------\u001b[0m",
      "\u001b[1;31mTypeError\u001b[0m                                 Traceback (most recent call last)",
      "\u001b[1;32mc:\\Users\\LeeJiSu\\Desktop\\k디털플젝\\어벤져스 감성분석.ipynb 셀 16\u001b[0m line \u001b[0;36m1\n\u001b[1;32m----> <a href='vscode-notebook-cell:/c%3A/Users/LeeJiSu/Desktop/k%EB%94%94%ED%84%B8%ED%94%8C%EC%A0%9D/%EC%96%B4%EB%B2%A4%EC%A0%B8%EC%8A%A4%20%EA%B0%90%EC%84%B1%EB%B6%84%EC%84%9D.ipynb#X20sZmlsZQ%3D%3D?line=0'>1</a>\u001b[0m okt \u001b[39m=\u001b[39m Okt()\n\u001b[0;32m      <a href='vscode-notebook-cell:/c%3A/Users/LeeJiSu/Desktop/k%EB%94%94%ED%84%B8%ED%94%8C%EC%A0%9D/%EC%96%B4%EB%B2%A4%EC%A0%B8%EC%8A%A4%20%EA%B0%90%EC%84%B1%EB%B6%84%EC%84%9D.ipynb#X20sZmlsZQ%3D%3D?line=1'>2</a>\u001b[0m nouns \u001b[39m=\u001b[39m okt\u001b[39m.\u001b[39mnouns(apply_regular_expression(df[\u001b[39m'\u001b[39m\u001b[39mreview\u001b[39m\u001b[39m'\u001b[39m][\u001b[39m5\u001b[39m]))\n\u001b[0;32m      <a href='vscode-notebook-cell:/c%3A/Users/LeeJiSu/Desktop/k%EB%94%94%ED%84%B8%ED%94%8C%EC%A0%9D/%EC%96%B4%EB%B2%A4%EC%A0%B8%EC%8A%A4%20%EA%B0%90%EC%84%B1%EB%B6%84%EC%84%9D.ipynb#X20sZmlsZQ%3D%3D?line=2'>3</a>\u001b[0m nouns\n",
      "File \u001b[1;32m~\\AppData\\Roaming\\Python\\Python311\\site-packages\\konlpy\\tag\\_okt.py:51\u001b[0m, in \u001b[0;36mOkt.__init__\u001b[1;34m(self, jvmpath, max_heap_size)\u001b[0m\n\u001b[0;32m     49\u001b[0m \u001b[39mdef\u001b[39;00m \u001b[39m__init__\u001b[39m(\u001b[39mself\u001b[39m, jvmpath\u001b[39m=\u001b[39m\u001b[39mNone\u001b[39;00m, max_heap_size\u001b[39m=\u001b[39m\u001b[39m1024\u001b[39m):\n\u001b[0;32m     50\u001b[0m     \u001b[39mif\u001b[39;00m \u001b[39mnot\u001b[39;00m jpype\u001b[39m.\u001b[39misJVMStarted():\n\u001b[1;32m---> 51\u001b[0m         jvm\u001b[39m.\u001b[39;49minit_jvm(jvmpath, max_heap_size)\n\u001b[0;32m     53\u001b[0m     oktJavaPackage \u001b[39m=\u001b[39m jpype\u001b[39m.\u001b[39mJPackage(\u001b[39m'\u001b[39m\u001b[39mkr.lucypark.okt\u001b[39m\u001b[39m'\u001b[39m)\n\u001b[0;32m     54\u001b[0m     OktInterfaceJavaClass \u001b[39m=\u001b[39m oktJavaPackage\u001b[39m.\u001b[39mOktInterface\n",
      "File \u001b[1;32m~\\AppData\\Roaming\\Python\\Python311\\site-packages\\konlpy\\jvm.py:64\u001b[0m, in \u001b[0;36minit_jvm\u001b[1;34m(jvmpath, max_heap_size)\u001b[0m\n\u001b[0;32m     61\u001b[0m     jvmpath \u001b[39m=\u001b[39m \u001b[39m'\u001b[39m\u001b[39m%s\u001b[39;00m\u001b[39m/lib/jli/libjli.dylib\u001b[39m\u001b[39m'\u001b[39m \u001b[39m%\u001b[39m jvmpath\u001b[39m.\u001b[39msplit(\u001b[39m'\u001b[39m\u001b[39m/lib/\u001b[39m\u001b[39m'\u001b[39m)[\u001b[39m0\u001b[39m]\n\u001b[0;32m     63\u001b[0m \u001b[39mif\u001b[39;00m jvmpath:\n\u001b[1;32m---> 64\u001b[0m     jpype\u001b[39m.\u001b[39;49mstartJVM(jvmpath, \u001b[39m'\u001b[39;49m\u001b[39m-Dfile.encoding=UTF8\u001b[39;49m\u001b[39m'\u001b[39;49m,\n\u001b[0;32m     65\u001b[0m                             \u001b[39m'\u001b[39;49m\u001b[39m-ea\u001b[39;49m\u001b[39m'\u001b[39;49m, \u001b[39m'\u001b[39;49m\u001b[39m-Xmx\u001b[39;49m\u001b[39m{}\u001b[39;49;00m\u001b[39mm\u001b[39;49m\u001b[39m'\u001b[39;49m\u001b[39m.\u001b[39;49mformat(max_heap_size),\n\u001b[0;32m     66\u001b[0m                             classpath\u001b[39m=\u001b[39;49mclasspath,\n\u001b[0;32m     67\u001b[0m                             \u001b[39m#convertStrings=True\u001b[39;49;00m\n\u001b[0;32m     68\u001b[0m                             )\n\u001b[0;32m     69\u001b[0m \u001b[39melse\u001b[39;00m:\n\u001b[0;32m     70\u001b[0m     \u001b[39mraise\u001b[39;00m \u001b[39mValueError\u001b[39;00m(\u001b[39m\"\u001b[39m\u001b[39mPlease specify the JVM path.\u001b[39m\u001b[39m\"\u001b[39m)\n",
      "\u001b[1;31mTypeError\u001b[0m: startJVM() got an unexpected keyword argument 'classpath'"
     ]
    }
   ],
   "source": [
    "okt = Okt()\n",
    "nouns = okt.nouns(apply_regular_expression(df['review'][5]))\n",
    "nouns"
   ]
  }
 ],
 "metadata": {
  "kernelspec": {
   "display_name": "Python 3",
   "language": "python",
   "name": "python3"
  },
  "language_info": {
   "codemirror_mode": {
    "name": "ipython",
    "version": 3
   },
   "file_extension": ".py",
   "mimetype": "text/x-python",
   "name": "python",
   "nbconvert_exporter": "python",
   "pygments_lexer": "ipython3",
   "version": "3.11.3"
  }
 },
 "nbformat": 4,
 "nbformat_minor": 2
}
